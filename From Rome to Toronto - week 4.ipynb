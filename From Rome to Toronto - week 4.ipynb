{
 "cells": [
  {
   "cell_type": "markdown",
   "metadata": {},
   "source": [
    "## Introduction/Business Problem"
   ]
  },
  {
   "cell_type": "markdown",
   "metadata": {},
   "source": [
    "Relocating from Rome to Toronto without any knowledge of the city can be difficult.  \n",
    "Since both are quite large and important cities, neighborhoods within those cities are quite different from each other.  \n",
    "As an example, a person from Centocelle (Rome) would adjust better in Harbourfront East (Toronto) than in Summerhill East (Toronto), where he/she can enjoy a similar density of restaurants and cinemas;  while Summerhill  may be better for someone from Trastevere (Rome), where he/she can appreciate the green area.  \n",
    "The purpose of this project is to use Foursquare location data to identify the types of venues within each neighborhood and calculate the \"similarity\" a roman neighborhood will have to a Toronto neighborhood.\n",
    "At then end of the project, the person from Rome who needs to relocate will type his/her neighborhood and he/she will be provide with a ranking of the “less distant” Toronto neighborhoods from his/her own."
   ]
  },
  {
   "cell_type": "markdown",
   "metadata": {},
   "source": [
    "## Data"
   ]
  },
  {
   "cell_type": "markdown",
   "metadata": {},
   "source": [
    " - Canada postcode available at https://en.wikipedia.org/wiki/List_of_postal_codes_of_Canada:_M  \n",
    "     This table associates Canadian Postcodes with Neighbourhoods\n",
    " - Canadian postcode latitude and longitude available at http://cocl.us/Geospatial_data\n",
    " - Italian postcode latitude and longitude available at http://download.geonames.org/export/zip/  \n",
    "      Raw data has been pre-filtered for the roman area before importing into pandas\n",
    " - Roman neighborhoods available at http://www.roma-o-matic.com/zoom.php3?actions[Z]=x  \n",
    "      This table associate Roman Neighborhoods with postcodes (CAP in Italian)  \n",
    " - Foursquare location data  \n",
    "     Using the latitude and longitude of both Roman and Toronto Neighbourhoods, I have fetching a max of 100 Venues within a Radius of 500 m. I have used the URL https://api.foursquare.com/v2/venues/explore?&client_id={}&client_secret={}&v={}&ll={},{}&radius={}&limit={} and re-organised them into a pandas dataframe obtaining one row per venue, with its venue category and the neighbourhoods within it has been found\n",
    " "
   ]
  }
 ],
 "metadata": {
  "kernelspec": {
   "display_name": "Python",
   "language": "python",
   "name": "conda-env-python-py"
  },
  "language_info": {
   "codemirror_mode": {
    "name": "ipython",
    "version": 3
   },
   "file_extension": ".py",
   "mimetype": "text/x-python",
   "name": "python",
   "nbconvert_exporter": "python",
   "pygments_lexer": "ipython3",
   "version": "3.6.7"
  }
 },
 "nbformat": 4,
 "nbformat_minor": 4
}
